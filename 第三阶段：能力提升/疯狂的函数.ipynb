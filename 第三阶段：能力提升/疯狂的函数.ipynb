{
 "cells": [
  {
   "cell_type": "markdown",
   "metadata": {},
   "source": [
    "# <center>疯狂的函数\n"
   ]
  },
  {
   "cell_type": "markdown",
   "metadata": {},
   "source": [
    "---\n",
    "- 学号：\n",
    "- 姓名:\n",
    "---"
   ]
  },
  {
   "cell_type": "markdown",
   "metadata": {},
   "source": [
    "练习：函数add(n),计算$res = 1+2+3+...+n$"
   ]
  },
  {
   "cell_type": "code",
   "execution_count": null,
   "metadata": {},
   "outputs": [],
   "source": []
  },
  {
   "cell_type": "markdown",
   "metadata": {},
   "source": [
    "练习：函数add(n),计算$res = \\frac{1}{1}+\\frac{1}{2}+\\frac{1}{3}+...+\\frac{1}{n}$"
   ]
  },
  {
   "cell_type": "code",
   "execution_count": null,
   "metadata": {},
   "outputs": [],
   "source": []
  },
  {
   "cell_type": "markdown",
   "metadata": {},
   "source": [
    "练习：函数add(n),计算$res = \\frac{1}{1}+\\frac{2}{1+2}+\\frac{3}{1+2+3}+...+\\frac{n}{1+2+..+n}$"
   ]
  },
  {
   "cell_type": "code",
   "execution_count": null,
   "metadata": {},
   "outputs": [],
   "source": []
  },
  {
   "cell_type": "markdown",
   "metadata": {},
   "source": [
    "练习：add（n）计算1+2!+3!+...+n!的和"
   ]
  },
  {
   "cell_type": "code",
   "execution_count": null,
   "metadata": {},
   "outputs": [],
   "source": []
  },
  {
   "cell_type": "markdown",
   "metadata": {},
   "source": [
    "练习：设计一个函数获取计算机当前时间"
   ]
  },
  {
   "cell_type": "code",
   "execution_count": 12,
   "metadata": {},
   "outputs": [
    {
     "name": "stdout",
     "output_type": "stream",
     "text": [
      "1517582494.6250114\n"
     ]
    }
   ],
   "source": [
    "import time as t\n",
    "\n",
    "\n",
    "\n",
    "def getTime():\n",
    "    ''' return time of cp\n",
    "    '''\n",
    "    now = t.time()\n",
    "    \n",
    "    return now\n",
    "\n",
    "res = getTime()\n",
    "\n",
    "print(res)"
   ]
  },
  {
   "cell_type": "code",
   "execution_count": null,
   "metadata": {},
   "outputs": [],
   "source": []
  },
  {
   "cell_type": "markdown",
   "metadata": {},
   "source": [
    "练习：聊天机器人,函数封装"
   ]
  },
  {
   "cell_type": "code",
   "execution_count": 19,
   "metadata": {},
   "outputs": [
    {
     "name": "stdout",
     "output_type": "stream",
     "text": [
      "兴义:周五 02月02日,雨夹雪 东风微风,最低气温0度，最高气温3度\n"
     ]
    }
   ],
   "source": [
    "import requests\n",
    "# import json\n",
    "\n",
    "words = \"兴义天气\"\n",
    "key = '11d7516a7fc9451da67e3dc68448f722'\n",
    "url = 'http://www.tuling123.com/openapi/api?key=' + key + '&info=' + words\n",
    "\n",
    "\n",
    "res = requests.post(url)\n",
    "data = json.loads(res.text)\n",
    "print(data['text'])"
   ]
  },
  {
   "cell_type": "code",
   "execution_count": null,
   "metadata": {},
   "outputs": [],
   "source": [
    "    "
   ]
  }
 ],
 "metadata": {
  "kernelspec": {
   "display_name": "Python 3",
   "language": "python",
   "name": "python3"
  },
  "language_info": {
   "codemirror_mode": {
    "name": "ipython",
    "version": 3
   },
   "file_extension": ".py",
   "mimetype": "text/x-python",
   "name": "python",
   "nbconvert_exporter": "python",
   "pygments_lexer": "ipython3",
   "version": "3.5.2"
  }
 },
 "nbformat": 4,
 "nbformat_minor": 2
}
