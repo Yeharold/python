{
 "cells": [
  {
   "cell_type": "markdown",
   "metadata": {},
   "source": [
    "# <center>Python学习方向\n",
    "-------------------    \n",
    "作者  https://github.com/Yeharold\n"
   ]
  },
  {
   "cell_type": "markdown",
   "metadata": {},
   "source": [
    "------\n",
    "- 学号：\n",
    "- 姓名:\n"
   ]
  },
  {
   "cell_type": "markdown",
   "metadata": {},
   "source": [
    "## 1 数据爬虫"
   ]
  },
  {
   "cell_type": "markdown",
   "metadata": {},
   "source": [
    "- step1: [数据匹配与提取xpath](http://www.runoob.com/xpath/xpath-syntax.html)\n",
    "- step2: [数据请求](http://docs.python-requests.org/zh_CN/latest/user/quickstart.html)\n",
    "- step3: [数据入库](http://www.runoob.com/sqlite/sqlite-python.html)"
   ]
  },
  {
   "cell_type": "markdown",
   "metadata": {},
   "source": [
    "*示例与练习*"
   ]
  },
  {
   "cell_type": "code",
   "execution_count": null,
   "metadata": {},
   "outputs": [],
   "source": []
  },
  {
   "cell_type": "code",
   "execution_count": null,
   "metadata": {},
   "outputs": [],
   "source": []
  },
  {
   "cell_type": "markdown",
   "metadata": {},
   "source": [
    "## 2 web开发"
   ]
  },
  {
   "cell_type": "markdown",
   "metadata": {},
   "source": [
    "- step1: [flask一个最小的应用](http://docs.python-requests.org/zh_CN/latest/user/quickstart.html)\n",
    "- step2: [flask轻应用开发](http://docs.python-requests.org/zh_CN/latest/user/quickstart.html)\n",
    "    - 注册（注册填写-密码校验-信息入库-跳转登录页）\n",
    "    - 登录（信息填写-数据库信息查询-信息验证-拒绝登录&跳转主页）\n",
    "    - 主页（主页功能构思）\n",
    "    - 退出（回话pop退出-跳转登录页）\n",
    "    - 功能完善&版本迭代\n",
    "- step3: [部署上线](http://python.jobbole.com/87666/)"
   ]
  },
  {
   "cell_type": "markdown",
   "metadata": {},
   "source": [
    "*示例与练习*"
   ]
  },
  {
   "cell_type": "code",
   "execution_count": null,
   "metadata": {},
   "outputs": [],
   "source": []
  },
  {
   "cell_type": "code",
   "execution_count": null,
   "metadata": {},
   "outputs": [],
   "source": []
  },
  {
   "cell_type": "markdown",
   "metadata": {},
   "source": [
    "## 3 边学编玩 "
   ]
  },
  {
   "cell_type": "markdown",
   "metadata": {},
   "source": [
    "- [控制微信](http://wxpy.readthedocs.io/zh/latest/chats.html)\n",
    "- [控制键盘鼠标](http://pyautogui.readthedocs.io/en/latest/)\n",
    "- [调人工智能接口](http://docs.python-requests.org/zh_CN/latest/user/quickstart.html)\n",
    "- [嵌入式&树莓派](http://shumeipai.nxez.com/what-raspi-used-for)"
   ]
  },
  {
   "cell_type": "markdown",
   "metadata": {},
   "source": [
    "*示例与练习*"
   ]
  },
  {
   "cell_type": "code",
   "execution_count": null,
   "metadata": {},
   "outputs": [],
   "source": []
  },
  {
   "cell_type": "code",
   "execution_count": null,
   "metadata": {},
   "outputs": [],
   "source": []
  },
  {
   "cell_type": "markdown",
   "metadata": {},
   "source": [
    "## 4 其他资料"
   ]
  },
  {
   "cell_type": "markdown",
   "metadata": {},
   "source": [
    "- [资料大全](https://github.com/jobbole/awesome-python-cn)\n",
    "- [github开源Python库排名](https://github.com/search?o=desc&q=Python&s=stars&type=Repositories&utf8=%E2%9C%93)\n",
    "- [github开源单日排名](https://github.com/trending?l=python)"
   ]
  },
  {
   "cell_type": "code",
   "execution_count": null,
   "metadata": {},
   "outputs": [],
   "source": []
  }
 ],
 "metadata": {
  "kernelspec": {
   "display_name": "Python 3",
   "language": "python",
   "name": "python3"
  },
  "language_info": {
   "codemirror_mode": {
    "name": "ipython",
    "version": 3
   },
   "file_extension": ".py",
   "mimetype": "text/x-python",
   "name": "python",
   "nbconvert_exporter": "python",
   "pygments_lexer": "ipython3",
   "version": "3.5.2"
  }
 },
 "nbformat": 4,
 "nbformat_minor": 2
}
