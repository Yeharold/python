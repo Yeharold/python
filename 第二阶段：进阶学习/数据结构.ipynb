{
 "cells": [
  {
   "cell_type": "markdown",
   "metadata": {},
   "source": [
    "# <center>数据结构\n",
    "----------"
   ]
  },
  {
   "cell_type": "markdown",
   "metadata": {},
   "source": [
    "## 1 列表"
   ]
  },
  {
   "cell_type": "markdown",
   "metadata": {},
   "source": [
    "- 1.1 列表创建"
   ]
  },
  {
   "cell_type": "code",
   "execution_count": 2,
   "metadata": {},
   "outputs": [
    {
     "name": "stdout",
     "output_type": "stream",
     "text": [
      "[] [1, 2, 3] ['hello', 'are', 'you', 'ok'] [3, 4, 5, 'python']\n"
     ]
    }
   ],
   "source": [
    "a = []\n",
    "b = [1,2,3]\n",
    "c = ['hello','are','you','ok']\n",
    "d = [3,4,5,'python']\n",
    "\n",
    "print(a,b,c,d)"
   ]
  },
  {
   "cell_type": "markdown",
   "metadata": {},
   "source": [
    "- 1.2 元素访问"
   ]
  },
  {
   "cell_type": "code",
   "execution_count": 10,
   "metadata": {},
   "outputs": [
    {
     "name": "stdout",
     "output_type": "stream",
     "text": [
      "['ok', 'you', 'are', 'hello']\n",
      "['hello', 'you']\n"
     ]
    }
   ],
   "source": [
    "c = ['hello','are','you','ok']\n",
    "\n",
    "print(c[::-1])\n",
    "print(c[::2]) #第二个冒号后的数值是步长"
   ]
  },
  {
   "cell_type": "markdown",
   "metadata": {},
   "source": [
    "- 1.3 列表嵌套"
   ]
  },
  {
   "cell_type": "code",
   "execution_count": 14,
   "metadata": {},
   "outputs": [
    {
     "name": "stdout",
     "output_type": "stream",
     "text": [
      "3\n",
      "['hello', 'python']\n",
      "python\n"
     ]
    }
   ],
   "source": [
    "a = [1,2,3,['hello','python'],5] #列表内嵌套类别\n",
    "\n",
    "print(a[2])\n",
    "print(a[3])\n",
    "print(a[3][1]) #访问嵌套中的元素"
   ]
  },
  {
   "cell_type": "code",
   "execution_count": 13,
   "metadata": {},
   "outputs": [
    {
     "name": "stdout",
     "output_type": "stream",
     "text": [
      "[1, 2, ['hello', 'python']]\n"
     ]
    }
   ],
   "source": [
    "a = ['hello','python']\n",
    "b = [1,2,a] #嵌套变量\n",
    "\n",
    "print(b)"
   ]
  },
  {
   "cell_type": "code",
   "execution_count": 17,
   "metadata": {},
   "outputs": [
    {
     "name": "stdout",
     "output_type": "stream",
     "text": [
      "6\n",
      "harold\n"
     ]
    }
   ],
   "source": [
    "a = [1,2,['hello','world'],(5,6,7),{'name':'harold','id':1234},100] #嵌套其他类型的数据结构\n",
    "\n",
    "print(a[3][1])\n",
    "print(a[4]['name']) #访问嵌套中的元素"
   ]
  },
  {
   "cell_type": "markdown",
   "metadata": {},
   "source": [
    "- 1.4 列表操作其他技巧"
   ]
  },
  {
   "cell_type": "code",
   "execution_count": 29,
   "metadata": {},
   "outputs": [
    {
     "name": "stdout",
     "output_type": "stream",
     "text": [
      "<zip object at 0x7fd01c2d25c8>\n"
     ]
    }
   ],
   "source": [
    "name = ['alice','adam','erric']\n",
    "num = [10,11,12]\n",
    "\n",
    "res = zip(name,num) #zip()应用\n",
    "print(res)"
   ]
  },
  {
   "cell_type": "markdown",
   "metadata": {},
   "source": [
    "内置方法和函数：http://www.runoob.com/python3/python3-list.html"
   ]
  },
  {
   "cell_type": "markdown",
   "metadata": {},
   "source": [
    "## 2 元组"
   ]
  },
  {
   "cell_type": "markdown",
   "metadata": {},
   "source": [
    "- 2.1 元组嵌套"
   ]
  },
  {
   "cell_type": "code",
   "execution_count": 32,
   "metadata": {},
   "outputs": [
    {
     "name": "stdout",
     "output_type": "stream",
     "text": [
      "('hello', 'world')\n",
      "world\n",
      "alice\n"
     ]
    }
   ],
   "source": [
    "a = (1,2,('hello','world'),['ok','mi fan'],{'name':'alice','id':12345})\n",
    "\n",
    "print(a[2])\n",
    "print(a[2][1])\n",
    "print(a[4]['name'])"
   ]
  },
  {
   "cell_type": "markdown",
   "metadata": {},
   "source": [
    "## 3字典"
   ]
  },
  {
   "cell_type": "markdown",
   "metadata": {},
   "source": [
    "- 3.1 字典嵌套"
   ]
  },
  {
   "cell_type": "code",
   "execution_count": 36,
   "metadata": {},
   "outputs": [
    {
     "name": "stdout",
     "output_type": "stream",
     "text": [
      "java\n"
     ]
    }
   ],
   "source": [
    "d = {'name':'alice','id':2018101421,\"course\":{'1':'python','2':'java','3':'msyql'}}\n",
    "\n",
    "print(d['course']['2'])"
   ]
  },
  {
   "cell_type": "markdown",
   "metadata": {},
   "source": [
    "- 3.2 其他内置函数http://www.runoob.com/python3/python3-dictionary.html"
   ]
  },
  {
   "cell_type": "code",
   "execution_count": null,
   "metadata": {},
   "outputs": [],
   "source": []
  }
 ],
 "metadata": {
  "kernelspec": {
   "display_name": "Python 3",
   "language": "python",
   "name": "python3"
  },
  "language_info": {
   "codemirror_mode": {
    "name": "ipython",
    "version": 3
   },
   "file_extension": ".py",
   "mimetype": "text/x-python",
   "name": "python",
   "nbconvert_exporter": "python",
   "pygments_lexer": "ipython3",
   "version": "3.5.2"
  }
 },
 "nbformat": 4,
 "nbformat_minor": 2
}
