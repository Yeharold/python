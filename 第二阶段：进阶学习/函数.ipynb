{
 "cells": [
  {
   "cell_type": "markdown",
   "metadata": {},
   "source": [
    "# <center>专题 函数\n",
    "----"
   ]
  },
  {
   "cell_type": "markdown",
   "metadata": {},
   "source": [
    "## 1 函数参数"
   ]
  },
  {
   "cell_type": "markdown",
   "metadata": {},
   "source": [
    "- 1.1 默认参数"
   ]
  },
  {
   "cell_type": "code",
   "execution_count": 7,
   "metadata": {},
   "outputs": [
    {
     "name": "stdout",
     "output_type": "stream",
     "text": [
      "5\n",
      "13\n"
     ]
    }
   ],
   "source": [
    "def add(a,b=2): #b是默认参数，不指定b，b=2\n",
    "    ''' a,b are int or float\n",
    "    '''\n",
    "    \n",
    "    res = a + b\n",
    "    \n",
    "    return res\n",
    "\n",
    "\n",
    "\n",
    "print(add(3))\n",
    "print(add(3,10))"
   ]
  },
  {
   "cell_type": "markdown",
   "metadata": {},
   "source": [
    "- 1.2 参数指定"
   ]
  },
  {
   "cell_type": "code",
   "execution_count": 11,
   "metadata": {},
   "outputs": [
    {
     "name": "stdout",
     "output_type": "stream",
     "text": [
      "30\n",
      "8\n"
     ]
    }
   ],
   "source": [
    "def add(a,b):\n",
    "    '''a,b are int or float\n",
    "    '''\n",
    "    \n",
    "    res = a + b\n",
    "    \n",
    "    return res\n",
    "\n",
    "\n",
    "res1 = add(a=10,b=20) #顺序指定a=10，b=20\n",
    "print(res1)\n",
    "\n",
    "res2 = add(b=3,a=5) #乱序指定b=3，a=5\n",
    "print(res2)"
   ]
  },
  {
   "cell_type": "markdown",
   "metadata": {},
   "source": [
    "- 1.3 函数返回值"
   ]
  },
  {
   "cell_type": "code",
   "execution_count": 14,
   "metadata": {},
   "outputs": [
    {
     "name": "stdout",
     "output_type": "stream",
     "text": [
      "(7, 10)\n"
     ]
    }
   ],
   "source": [
    "def add(a,b):\n",
    "    ''' a,b are int or float\n",
    "    '''\n",
    "    res1 = a + b \n",
    "    res2 = a * b\n",
    "    \n",
    "    return res1,res2  #返回值是个元组（），一次返回多个值\n",
    "\n",
    "\n",
    "\n",
    "r = add(2,5)\n",
    "print(r)"
   ]
  },
  {
   "cell_type": "code",
   "execution_count": 16,
   "metadata": {},
   "outputs": [
    {
     "name": "stdout",
     "output_type": "stream",
     "text": [
      "[8, 15]\n"
     ]
    }
   ],
   "source": [
    "def add(a,b):\n",
    "    '''\n",
    "    '''\n",
    "    \n",
    "    res1 = a + b\n",
    "    res2 = a * b\n",
    "    \n",
    "    return [res1,res2] #这样返回的是一个list列表，返回多个值\n",
    "\n",
    "r = add(3,5)\n",
    "print(r)"
   ]
  },
  {
   "cell_type": "markdown",
   "metadata": {},
   "source": [
    "- 1.4 匿名函数"
   ]
  },
  {
   "cell_type": "code",
   "execution_count": 2,
   "metadata": {},
   "outputs": [
    {
     "name": "stdout",
     "output_type": "stream",
     "text": [
      "21\n"
     ]
    }
   ],
   "source": [
    "f = lambda a,b:a+b # 匿名函数,一行代码\n",
    "\n",
    "r = f(10,11) #a=10，b=21\n",
    "print(r)"
   ]
  },
  {
   "cell_type": "markdown",
   "metadata": {},
   "source": [
    "## 2 示例"
   ]
  },
  {
   "cell_type": "markdown",
   "metadata": {},
   "source": [
    "- 定义一个名为add函数，传入参数n，并完成$res = \\sum \\frac{1}{1}+\\frac{1}{2}+\\frac{1}{3}+...+\\frac{1}{n}$ ,并返回res"
   ]
  },
  {
   "cell_type": "code",
   "execution_count": 6,
   "metadata": {},
   "outputs": [
    {
     "name": "stdout",
     "output_type": "stream",
     "text": [
      "1.8333333333333333\n"
     ]
    }
   ],
   "source": [
    "def add(n):\n",
    "    '''n is int\n",
    "    '''\n",
    "    \n",
    "    res = 0 \n",
    "    for i in range(1,n+1):\n",
    "        res = res + 1/i\n",
    "        \n",
    "    return res\n",
    "\n",
    "\n",
    "\n",
    "r = add(3)\n",
    "print(r)"
   ]
  },
  {
   "cell_type": "markdown",
   "metadata": {},
   "source": [
    "- 定义一个名为add函数如add(n),并完成$res = \\sum_{i=1}^{i=n}\\frac{1}{1}+\\frac{2}{1+2}+\\frac{3}{1+2+3}+...\\frac{n}{1+2+..+n}$，返回res"
   ]
  },
  {
   "cell_type": "code",
   "execution_count": 12,
   "metadata": {},
   "outputs": [
    {
     "name": "stdout",
     "output_type": "stream",
     "text": [
      "4.03975468975469\n"
     ]
    }
   ],
   "source": [
    "def add(n):\n",
    "    '''n is int\n",
    "    '''\n",
    "    \n",
    "    res = 0 \n",
    "    fz = None\n",
    "    fm = 0\n",
    "    for i in range(1,n+1):\n",
    "        \n",
    "        fz = i\n",
    "        fm = fm + i\n",
    "        res = res + fz/fm\n",
    "        \n",
    "    return res\n",
    "\n",
    "\n",
    "result = add(10)\n",
    "print(result)\n",
    "\n"
   ]
  },
  {
   "cell_type": "markdown",
   "metadata": {},
   "source": [
    "- 打印出所有的“水仙花数”，所谓“水仙花数”是指一个三位数，其各位数字立方和等于该数本身。例如：153是一个“水仙花数”，因为$153 = 1^{3}+5^{3}+3^{3}$"
   ]
  },
  {
   "cell_type": "code",
   "execution_count": 16,
   "metadata": {},
   "outputs": [
    {
     "name": "stdout",
     "output_type": "stream",
     "text": [
      "153\n",
      "370\n",
      "371\n",
      "407\n"
     ]
    }
   ],
   "source": [
    "def waterflower():\n",
    "    '''\n",
    "    '''\n",
    "    for i in range(100,1000):\n",
    "        \n",
    "        num = i\n",
    "        s = str(num)\n",
    "        \n",
    "        s_3 = int(s[2])\n",
    "        s_2 = int(s[1])\n",
    "        s_1 = int(s[0])\n",
    "        \n",
    "        res = s_1**3 + s_2**3 + s_3**3\n",
    "        \n",
    "        if res == i:\n",
    "            print(i)\n",
    "\n",
    "            \n",
    "waterflower()\n",
    "        \n",
    "        "
   ]
  },
  {
   "cell_type": "markdown",
   "metadata": {},
   "source": []
  }
 ],
 "metadata": {
  "kernelspec": {
   "display_name": "Python 3",
   "language": "python",
   "name": "python3"
  },
  "language_info": {
   "codemirror_mode": {
    "name": "ipython",
    "version": 3
   },
   "file_extension": ".py",
   "mimetype": "text/x-python",
   "name": "python",
   "nbconvert_exporter": "python",
   "pygments_lexer": "ipython3",
   "version": "3.5.2"
  }
 },
 "nbformat": 4,
 "nbformat_minor": 2
}
