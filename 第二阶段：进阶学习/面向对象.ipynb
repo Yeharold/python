{
 "cells": [
  {
   "cell_type": "markdown",
   "metadata": {},
   "source": [
    "# <center> 专题 面向对象\n",
    "------------------\n"
   ]
  },
  {
   "cell_type": "markdown",
   "metadata": {},
   "source": [
    "## 1 继承"
   ]
  },
  {
   "cell_type": "code",
   "execution_count": 3,
   "metadata": {},
   "outputs": [
    {
     "name": "stdout",
     "output_type": "stream",
     "text": [
      "hello are you ok\n",
      "可以聊微信\n",
      "打电话\n"
     ]
    }
   ],
   "source": [
    "class basicPhone():\n",
    "    \n",
    "    def call(self):\n",
    "        print('打电话')\n",
    "    \n",
    "    \n",
    "    def msg(self):\n",
    "        print('发短信')\n",
    "\n",
    "        \n",
    "        \n",
    "class smartPhone(basicPhone): #继承basicphone\n",
    "    \n",
    "    def qq(self):\n",
    "        print('可以聊qq')\n",
    "        \n",
    "    \n",
    "    def wechat(self):\n",
    "        print('可以聊微信')\n",
    "        \n",
    "    \n",
    "    def brower(self):\n",
    "        print('可以上网')\n",
    "\n",
    "        \n",
    "        \n",
    "class nokia(basicPhone): #继承basicphone\n",
    "    \n",
    "    def hammer(self):\n",
    "        print('可以砸核桃')\n",
    "        \n",
    "        \n",
    "        \n",
    "class iPhone(smartPhone): #继承smartphone\n",
    "    \n",
    "    def show(self):\n",
    "        print('我是土豪')\n",
    "     \n",
    "    \n",
    "    \n",
    "class mi(smartPhone): #继承smartphone\n",
    "            \n",
    "    def hello(self):\n",
    "        print('hello are you ok')\n",
    "\n",
    "        \n",
    "mi6 = mi()\n",
    "mi6.hello()\n",
    "mi6.wechat()\n",
    "mi6.call()"
   ]
  }
 ],
 "metadata": {
  "kernelspec": {
   "display_name": "Python 3",
   "language": "python",
   "name": "python3"
  },
  "language_info": {
   "codemirror_mode": {
    "name": "ipython",
    "version": 3
   },
   "file_extension": ".py",
   "mimetype": "text/x-python",
   "name": "python",
   "nbconvert_exporter": "python",
   "pygments_lexer": "ipython3",
   "version": "3.5.2"
  }
 },
 "nbformat": 4,
 "nbformat_minor": 2
}
