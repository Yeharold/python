{
 "cells": [
  {
   "cell_type": "markdown",
   "metadata": {},
   "source": [
    "# <center>Python快入门\n",
    "- 作者:https://github.com/Yeharold\n",
    "- 标题：快速入门python基础\n",
    "\n",
    "\n",
    "------------\n",
    "\n",
    "### <font color=Blue><center>像工匠一样写够十万行代码，像写诗一样去写每一行代码"
   ]
  },
  {
   "cell_type": "markdown",
   "metadata": {},
   "source": [
    "----\n",
    "- 学号：\n",
    "- 姓名:\n",
    "---"
   ]
  },
  {
   "cell_type": "markdown",
   "metadata": {},
   "source": [
    "## <center>1.第一个Python程序\n",
    "------------------------------------"
   ]
  },
  {
   "cell_type": "markdown",
   "metadata": {},
   "source": [
    "- 示例与练习"
   ]
  },
  {
   "cell_type": "code",
   "execution_count": null,
   "metadata": {},
   "outputs": [],
   "source": [
    "print('hello world')"
   ]
  },
  {
   "cell_type": "code",
   "execution_count": null,
   "metadata": {},
   "outputs": [],
   "source": []
  },
  {
   "cell_type": "code",
   "execution_count": null,
   "metadata": {},
   "outputs": [],
   "source": []
  },
  {
   "cell_type": "markdown",
   "metadata": {},
   "source": [
    "## <center>2.变量与数据类型\n",
    "---"
   ]
  },
  {
   "cell_type": "markdown",
   "metadata": {},
   "source": [
    "知识要点\n",
    "- 变量定义\n",
    "- 数字\n",
    "- 字符串\n",
    "- 布尔值\n",
    "- 空\n",
    "----------"
   ]
  },
  {
   "cell_type": "markdown",
   "metadata": {},
   "source": [
    "    要点： 变量定   字母或_开头(字母 _ 数字)    避开关键字   大小写敏感\n",
    "- 示例与练习"
   ]
  },
  {
   "cell_type": "code",
   "execution_count": null,
   "metadata": {},
   "outputs": [],
   "source": [
    "a = 10\n",
    "print(a)"
   ]
  },
  {
   "cell_type": "code",
   "execution_count": null,
   "metadata": {},
   "outputs": [],
   "source": []
  },
  {
   "cell_type": "code",
   "execution_count": null,
   "metadata": {},
   "outputs": [],
   "source": [
    "var_1 = 'cool'\n",
    "\n",
    "print(var_1)"
   ]
  },
  {
   "cell_type": "code",
   "execution_count": null,
   "metadata": {},
   "outputs": [],
   "source": []
  },
  {
   "cell_type": "code",
   "execution_count": null,
   "metadata": {},
   "outputs": [],
   "source": [
    "a = 10\n",
    "A = 20\n",
    "\n",
    "print(A)"
   ]
  },
  {
   "cell_type": "code",
   "execution_count": null,
   "metadata": {},
   "outputs": [],
   "source": []
  },
  {
   "cell_type": "code",
   "execution_count": null,
   "metadata": {},
   "outputs": [],
   "source": [
    "2a = 10"
   ]
  },
  {
   "cell_type": "code",
   "execution_count": null,
   "metadata": {},
   "outputs": [],
   "source": []
  },
  {
   "cell_type": "markdown",
   "metadata": {},
   "source": [
    "    "
   ]
  },
  {
   "cell_type": "markdown",
   "metadata": {},
   "source": [
    "    要点: 数字 字符串 布尔值 空\n",
    "- 示例与练习"
   ]
  },
  {
   "cell_type": "code",
   "execution_count": null,
   "metadata": {},
   "outputs": [],
   "source": [
    "a = 1\n",
    "print(a)"
   ]
  },
  {
   "cell_type": "code",
   "execution_count": null,
   "metadata": {},
   "outputs": [],
   "source": []
  },
  {
   "cell_type": "code",
   "execution_count": null,
   "metadata": {},
   "outputs": [],
   "source": [
    "b = 3.14 #小数\n",
    "print(b)"
   ]
  },
  {
   "cell_type": "code",
   "execution_count": null,
   "metadata": {},
   "outputs": [],
   "source": []
  },
  {
   "cell_type": "code",
   "execution_count": null,
   "metadata": {},
   "outputs": [],
   "source": [
    "c = 'hello python' #单引号\n",
    "print(c)"
   ]
  },
  {
   "cell_type": "code",
   "execution_count": null,
   "metadata": {},
   "outputs": [],
   "source": []
  },
  {
   "cell_type": "code",
   "execution_count": null,
   "metadata": {},
   "outputs": [],
   "source": [
    "d = \"hello are you ok\" #双引号\n",
    "print(d)"
   ]
  },
  {
   "cell_type": "code",
   "execution_count": null,
   "metadata": {},
   "outputs": [],
   "source": []
  },
  {
   "cell_type": "code",
   "execution_count": null,
   "metadata": {
    "scrolled": true
   },
   "outputs": [],
   "source": [
    "e = True\n",
    "print(e)"
   ]
  },
  {
   "cell_type": "code",
   "execution_count": null,
   "metadata": {},
   "outputs": [],
   "source": []
  },
  {
   "cell_type": "code",
   "execution_count": null,
   "metadata": {},
   "outputs": [],
   "source": [
    "f = None\n",
    "print(f)"
   ]
  },
  {
   "cell_type": "code",
   "execution_count": null,
   "metadata": {},
   "outputs": [],
   "source": []
  },
  {
   "cell_type": "markdown",
   "metadata": {},
   "source": [
    "## <center>3.运算符\n",
    "---\n",
    "知识要点\n",
    "- 算术\n",
    "- 比较\n",
    "- 赋值\n",
    "- 逻辑\n",
    "- 成员\n",
    "---"
   ]
  },
  {
   "cell_type": "markdown",
   "metadata": {},
   "source": [
    "    算术：+  -  *   /   %   **\n",
    "- 示例与练习"
   ]
  },
  {
   "cell_type": "code",
   "execution_count": null,
   "metadata": {},
   "outputs": [],
   "source": [
    "a = 10;b = 21\n",
    "\n",
    "res = a + b\n",
    "\n",
    "print(res)"
   ]
  },
  {
   "cell_type": "code",
   "execution_count": null,
   "metadata": {},
   "outputs": [],
   "source": []
  },
  {
   "cell_type": "code",
   "execution_count": null,
   "metadata": {},
   "outputs": [],
   "source": [
    "a = 10.0;b = 21\n",
    "\n",
    "res = a - b\n",
    "\n",
    "print(res)"
   ]
  },
  {
   "cell_type": "code",
   "execution_count": null,
   "metadata": {},
   "outputs": [],
   "source": []
  },
  {
   "cell_type": "code",
   "execution_count": null,
   "metadata": {},
   "outputs": [],
   "source": [
    "a = 10;b = 21\n",
    "\n",
    "res = a * b\n",
    "\n",
    "print(res)"
   ]
  },
  {
   "cell_type": "code",
   "execution_count": null,
   "metadata": {},
   "outputs": [],
   "source": []
  },
  {
   "cell_type": "code",
   "execution_count": null,
   "metadata": {},
   "outputs": [],
   "source": [
    "a = 10;b = 21\n",
    "\n",
    "res = a / b\n",
    "\n",
    "print(res)"
   ]
  },
  {
   "cell_type": "code",
   "execution_count": null,
   "metadata": {},
   "outputs": [],
   "source": []
  },
  {
   "cell_type": "code",
   "execution_count": null,
   "metadata": {},
   "outputs": [],
   "source": [
    "a = 10;b = 21\n",
    "\n",
    "res = b % a \n",
    "\n",
    "print(res)"
   ]
  },
  {
   "cell_type": "code",
   "execution_count": null,
   "metadata": {},
   "outputs": [],
   "source": []
  },
  {
   "cell_type": "code",
   "execution_count": null,
   "metadata": {},
   "outputs": [],
   "source": [
    "a = 10\n",
    "\n",
    "res = a ** 3\n",
    "\n",
    "print(res)"
   ]
  },
  {
   "cell_type": "code",
   "execution_count": null,
   "metadata": {},
   "outputs": [],
   "source": []
  },
  {
   "cell_type": "markdown",
   "metadata": {},
   "source": [
    "    "
   ]
  },
  {
   "cell_type": "markdown",
   "metadata": {},
   "source": [
    "  \n",
    "    比较：>  <  >=  <=  ==  !=\n",
    "- 示例与练习"
   ]
  },
  {
   "cell_type": "code",
   "execution_count": null,
   "metadata": {},
   "outputs": [],
   "source": [
    "a = 10\n",
    "b = 21\n",
    "\n",
    "print(a>b)"
   ]
  },
  {
   "cell_type": "code",
   "execution_count": null,
   "metadata": {},
   "outputs": [],
   "source": []
  },
  {
   "cell_type": "code",
   "execution_count": null,
   "metadata": {},
   "outputs": [],
   "source": [
    "a = 10\n",
    "b = 21\n",
    "\n",
    "if a<b:\n",
    "    print('yes')"
   ]
  },
  {
   "cell_type": "code",
   "execution_count": null,
   "metadata": {},
   "outputs": [],
   "source": []
  },
  {
   "cell_type": "code",
   "execution_count": null,
   "metadata": {},
   "outputs": [],
   "source": [
    "a = 10\n",
    "b = 21\n",
    "\n",
    "if a>=b:\n",
    "    print('oh yeah')\n",
    "else:\n",
    "    print('oh no')"
   ]
  },
  {
   "cell_type": "code",
   "execution_count": null,
   "metadata": {},
   "outputs": [],
   "source": []
  },
  {
   "cell_type": "code",
   "execution_count": null,
   "metadata": {},
   "outputs": [],
   "source": [
    "a = 10\n",
    "b = 21\n",
    "\n",
    "res = a<=b\n",
    "print(res)"
   ]
  },
  {
   "cell_type": "code",
   "execution_count": null,
   "metadata": {},
   "outputs": [],
   "source": []
  },
  {
   "cell_type": "code",
   "execution_count": null,
   "metadata": {},
   "outputs": [],
   "source": [
    "a = 10\n",
    "b = 10\n",
    "\n",
    "if a == b:\n",
    "    print('yes')\n",
    "else:\n",
    "    print('no')\n",
    "    "
   ]
  },
  {
   "cell_type": "code",
   "execution_count": null,
   "metadata": {},
   "outputs": [],
   "source": []
  },
  {
   "cell_type": "code",
   "execution_count": null,
   "metadata": {},
   "outputs": [],
   "source": [
    "a = 'hello'\n",
    "b = 'world'\n",
    "\n",
    "if a !=b:\n",
    "    print('两个字符串不同')"
   ]
  },
  {
   "cell_type": "code",
   "execution_count": null,
   "metadata": {},
   "outputs": [],
   "source": []
  },
  {
   "cell_type": "markdown",
   "metadata": {},
   "source": [
    "    "
   ]
  },
  {
   "cell_type": "markdown",
   "metadata": {},
   "source": [
    "    赋值: =  +=  -= ...\n",
    "- 示例与练习"
   ]
  },
  {
   "cell_type": "code",
   "execution_count": null,
   "metadata": {},
   "outputs": [],
   "source": [
    "name = 'wellcome to china'\n",
    "\n",
    "print(name)"
   ]
  },
  {
   "cell_type": "code",
   "execution_count": null,
   "metadata": {},
   "outputs": [],
   "source": []
  },
  {
   "cell_type": "code",
   "execution_count": null,
   "metadata": {},
   "outputs": [],
   "source": [
    "a = 1314;b =3.14\n",
    "\n",
    "print(a,b)"
   ]
  },
  {
   "cell_type": "code",
   "execution_count": null,
   "metadata": {},
   "outputs": [],
   "source": []
  },
  {
   "cell_type": "code",
   "execution_count": null,
   "metadata": {},
   "outputs": [],
   "source": [
    "a = b = c = 10\n",
    "\n",
    "print(a,b,c)"
   ]
  },
  {
   "cell_type": "code",
   "execution_count": null,
   "metadata": {},
   "outputs": [],
   "source": []
  },
  {
   "cell_type": "code",
   "execution_count": null,
   "metadata": {},
   "outputs": [],
   "source": [
    "a,b,c = 1,2,'cool'\n",
    "\n",
    "print(a,c)"
   ]
  },
  {
   "cell_type": "code",
   "execution_count": null,
   "metadata": {},
   "outputs": [],
   "source": []
  },
  {
   "cell_type": "code",
   "execution_count": null,
   "metadata": {},
   "outputs": [],
   "source": [
    "a = 3\n",
    "b = 4\n",
    "print(a,b)\n",
    "\n",
    "a,b = b,a #让a=b,b=a，即ab互换值\n",
    "print(a,b)"
   ]
  },
  {
   "cell_type": "code",
   "execution_count": null,
   "metadata": {},
   "outputs": [],
   "source": []
  },
  {
   "cell_type": "code",
   "execution_count": null,
   "metadata": {},
   "outputs": [],
   "source": [
    "a = 5\n",
    "print(a)\n",
    "\n",
    "a += 4\n",
    "print(a)"
   ]
  },
  {
   "cell_type": "code",
   "execution_count": null,
   "metadata": {},
   "outputs": [],
   "source": []
  },
  {
   "cell_type": "code",
   "execution_count": null,
   "metadata": {},
   "outputs": [],
   "source": [
    "b = 5\n",
    "b = b +5\n",
    "print(b)"
   ]
  },
  {
   "cell_type": "code",
   "execution_count": null,
   "metadata": {},
   "outputs": [],
   "source": []
  },
  {
   "cell_type": "code",
   "execution_count": null,
   "metadata": {},
   "outputs": [],
   "source": []
  },
  {
   "cell_type": "code",
   "execution_count": null,
   "metadata": {},
   "outputs": [],
   "source": []
  },
  {
   "cell_type": "code",
   "execution_count": null,
   "metadata": {},
   "outputs": [],
   "source": []
  },
  {
   "cell_type": "code",
   "execution_count": null,
   "metadata": {},
   "outputs": [],
   "source": []
  },
  {
   "cell_type": "markdown",
   "metadata": {},
   "source": [
    "    "
   ]
  },
  {
   "cell_type": "markdown",
   "metadata": {},
   "source": [
    "    逻辑： and   or  not\n",
    "- 示例与练习"
   ]
  },
  {
   "cell_type": "code",
   "execution_count": null,
   "metadata": {},
   "outputs": [],
   "source": [
    "face = 80\n",
    "hight = 180\n",
    "\n",
    "if face>=85 and hight >=175:\n",
    "    print('oh marry me')\n",
    "else:\n",
    "    print('pass')"
   ]
  },
  {
   "cell_type": "code",
   "execution_count": null,
   "metadata": {},
   "outputs": [],
   "source": []
  },
  {
   "cell_type": "code",
   "execution_count": null,
   "metadata": {},
   "outputs": [],
   "source": [
    "face = 80\n",
    "hight = 180\n",
    "\n",
    "if face>=85 or hight >=175:\n",
    "    print('oh marry me')\n",
    "else:\n",
    "    print('out of my way')"
   ]
  },
  {
   "cell_type": "code",
   "execution_count": null,
   "metadata": {},
   "outputs": [],
   "source": []
  },
  {
   "cell_type": "code",
   "execution_count": null,
   "metadata": {},
   "outputs": [],
   "source": [
    "a = True\n",
    "\n",
    "res = not a\n",
    "\n",
    "print(res)"
   ]
  },
  {
   "cell_type": "code",
   "execution_count": null,
   "metadata": {},
   "outputs": [],
   "source": []
  },
  {
   "cell_type": "markdown",
   "metadata": {},
   "source": [
    "    "
   ]
  },
  {
   "cell_type": "markdown",
   "metadata": {},
   "source": [
    "    成员：in     not in\n",
    "- 示例与练习"
   ]
  },
  {
   "cell_type": "code",
   "execution_count": null,
   "metadata": {},
   "outputs": [],
   "source": [
    "a = 'python'\n",
    "res = 'h' in a\n",
    "\n",
    "print(res)"
   ]
  },
  {
   "cell_type": "code",
   "execution_count": null,
   "metadata": {},
   "outputs": [],
   "source": []
  },
  {
   "cell_type": "code",
   "execution_count": null,
   "metadata": {},
   "outputs": [],
   "source": [
    "a = ['hello','are','you','ok']\n",
    "res = 'are' not in a\n",
    "\n",
    "print(res)"
   ]
  },
  {
   "cell_type": "code",
   "execution_count": null,
   "metadata": {},
   "outputs": [],
   "source": []
  },
  {
   "cell_type": "code",
   "execution_count": null,
   "metadata": {},
   "outputs": [],
   "source": [
    "a = ['hello','are','you','ok',['mi','fan']]\n",
    "res = 'mi' in a\n",
    "\n",
    "print(res)"
   ]
  },
  {
   "cell_type": "code",
   "execution_count": null,
   "metadata": {},
   "outputs": [],
   "source": []
  },
  {
   "cell_type": "markdown",
   "metadata": {},
   "source": [
    "## <center>Python序列\n",
    "---\n",
    "知识要点\n",
    "- 列表\n",
    "- 元组\n",
    "- 字典\n",
    "- 字符串\n"
   ]
  },
  {
   "cell_type": "markdown",
   "metadata": {},
   "source": [
    "    列表：[]   创建\n",
    "- 示例与练习"
   ]
  },
  {
   "cell_type": "code",
   "execution_count": null,
   "metadata": {},
   "outputs": [],
   "source": [
    "a = [] #空列表\n",
    "\n",
    "b = [1,2,3.14] #存入数据\n",
    "\n",
    "c = [1,'are','you','ok']\n",
    "\n",
    "print(a,b,c)"
   ]
  },
  {
   "cell_type": "code",
   "execution_count": null,
   "metadata": {},
   "outputs": [],
   "source": []
  },
  {
   "cell_type": "code",
   "execution_count": null,
   "metadata": {},
   "outputs": [],
   "source": [
    "a=[1,2,3,['ok','hello']] #嵌套\n",
    "\n",
    "print(a)"
   ]
  },
  {
   "cell_type": "code",
   "execution_count": null,
   "metadata": {},
   "outputs": [],
   "source": []
  },
  {
   "cell_type": "markdown",
   "metadata": {},
   "source": [
    "    列表：访问元素   [索引]   单个元素访问   切片\n",
    "- 示例与练习"
   ]
  },
  {
   "cell_type": "code",
   "execution_count": null,
   "metadata": {},
   "outputs": [],
   "source": [
    "c = [1,'are','you','ok']\n",
    "\n",
    "print(c[1])"
   ]
  },
  {
   "cell_type": "code",
   "execution_count": null,
   "metadata": {},
   "outputs": [],
   "source": []
  },
  {
   "cell_type": "code",
   "execution_count": null,
   "metadata": {},
   "outputs": [],
   "source": [
    "c = [1,'are','you','ok']\n",
    "\n",
    "print(c[0])"
   ]
  },
  {
   "cell_type": "code",
   "execution_count": null,
   "metadata": {},
   "outputs": [],
   "source": []
  },
  {
   "cell_type": "code",
   "execution_count": null,
   "metadata": {},
   "outputs": [],
   "source": [
    "a=[1,2,3,['ok','hello']]\n",
    "\n",
    "print(a[3][0]) #两个a[][]  方括号"
   ]
  },
  {
   "cell_type": "code",
   "execution_count": null,
   "metadata": {},
   "outputs": [],
   "source": []
  },
  {
   "cell_type": "code",
   "execution_count": null,
   "metadata": {},
   "outputs": [],
   "source": [
    "c = [1,'are','you','ok']\n",
    "\n",
    "print(c[1:3]) #冒号切片"
   ]
  },
  {
   "cell_type": "code",
   "execution_count": null,
   "metadata": {},
   "outputs": [],
   "source": []
  },
  {
   "cell_type": "code",
   "execution_count": null,
   "metadata": {},
   "outputs": [],
   "source": [
    "c = [1,'are','you','ok']\n",
    "\n",
    "print(c[1:2]) #冒号切片"
   ]
  },
  {
   "cell_type": "code",
   "execution_count": null,
   "metadata": {},
   "outputs": [],
   "source": []
  },
  {
   "cell_type": "markdown",
   "metadata": {},
   "source": [
    "    列表：更新    =\n",
    "- 示例与练习"
   ]
  },
  {
   "cell_type": "code",
   "execution_count": null,
   "metadata": {},
   "outputs": [],
   "source": [
    "c = [1,'are','you','ok']\n",
    "\n",
    "c[2] = 'python' #让2赋值='python'\n",
    "\n",
    "print(c)"
   ]
  },
  {
   "cell_type": "code",
   "execution_count": null,
   "metadata": {},
   "outputs": [],
   "source": []
  },
  {
   "cell_type": "markdown",
   "metadata": {},
   "source": [
    "    列表：删除   删除单个元素    删除整个列表  del\n",
    "- 示例与练习"
   ]
  },
  {
   "cell_type": "code",
   "execution_count": null,
   "metadata": {},
   "outputs": [],
   "source": [
    "c = [1,'are','you','ok']\n",
    "\n",
    "del c[0]  #删除单个元素\n",
    "\n",
    "print(c)"
   ]
  },
  {
   "cell_type": "code",
   "execution_count": null,
   "metadata": {},
   "outputs": [],
   "source": []
  },
  {
   "cell_type": "code",
   "execution_count": null,
   "metadata": {},
   "outputs": [],
   "source": [
    "c = [1,'are','you','ok']\n",
    "\n",
    "del c  #删除整个列表\n",
    "\n",
    "print(c) "
   ]
  },
  {
   "cell_type": "code",
   "execution_count": null,
   "metadata": {},
   "outputs": [],
   "source": []
  },
  {
   "cell_type": "markdown",
   "metadata": {},
   "source": [
    "    列表：操作   len（）求长度     +拼接      *乘法    in成员判断\n",
    "- 示例与练习"
   ]
  },
  {
   "cell_type": "code",
   "execution_count": null,
   "metadata": {},
   "outputs": [],
   "source": [
    "c = [1,'are','you','ok']\n",
    "\n",
    "l = len(c) #求长度\n",
    "\n",
    "print(l)"
   ]
  },
  {
   "cell_type": "code",
   "execution_count": null,
   "metadata": {},
   "outputs": [],
   "source": []
  },
  {
   "cell_type": "code",
   "execution_count": null,
   "metadata": {},
   "outputs": [],
   "source": [
    "a = [1,'are','you','ok']\n",
    "\n",
    "b = [2,3,4]\n",
    "\n",
    "c = a + b #+拼接\n",
    "\n",
    "print(c)"
   ]
  },
  {
   "cell_type": "code",
   "execution_count": null,
   "metadata": {},
   "outputs": [],
   "source": []
  },
  {
   "cell_type": "code",
   "execution_count": null,
   "metadata": {},
   "outputs": [],
   "source": [
    "a = [1,'are','you','ok']\n",
    "\n",
    "b = [2,3,4]\n",
    "\n",
    "c = b + a #+拼接\n",
    "\n",
    "print(c)"
   ]
  },
  {
   "cell_type": "code",
   "execution_count": null,
   "metadata": {},
   "outputs": [],
   "source": []
  },
  {
   "cell_type": "code",
   "execution_count": null,
   "metadata": {},
   "outputs": [],
   "source": [
    "a = [1,'are','you','ok']\n",
    "\n",
    "b = a*2\n",
    "\n",
    "print(b)"
   ]
  },
  {
   "cell_type": "code",
   "execution_count": null,
   "metadata": {},
   "outputs": [],
   "source": []
  },
  {
   "cell_type": "code",
   "execution_count": null,
   "metadata": {},
   "outputs": [],
   "source": [
    "c = [1,'are','you','ok']\n",
    "\n",
    "res = 'ok' in c\n",
    "\n",
    "print(res)"
   ]
  },
  {
   "cell_type": "code",
   "execution_count": null,
   "metadata": {},
   "outputs": [],
   "source": []
  },
  {
   "cell_type": "markdown",
   "metadata": {},
   "source": [
    "    列表：内置方法    .append（）尾部追加     .insert（）指定位置插入      .remove()移除指定元素     .pop()弹出末尾元素\n",
    "- 示例与练习"
   ]
  },
  {
   "cell_type": "code",
   "execution_count": null,
   "metadata": {},
   "outputs": [],
   "source": [
    "c = [1,'are','you','ok']\n",
    "\n",
    "c.append('python')  #尾部追加\n",
    "\n",
    "print(c)"
   ]
  },
  {
   "cell_type": "code",
   "execution_count": null,
   "metadata": {},
   "outputs": [],
   "source": []
  },
  {
   "cell_type": "code",
   "execution_count": null,
   "metadata": {},
   "outputs": [],
   "source": [
    "c = [1,'are','you','ok']\n",
    "\n",
    "c.insert(2,'python')  #在2位置插入\n",
    "\n",
    "print(c)"
   ]
  },
  {
   "cell_type": "code",
   "execution_count": null,
   "metadata": {},
   "outputs": [],
   "source": []
  },
  {
   "cell_type": "code",
   "execution_count": null,
   "metadata": {},
   "outputs": [],
   "source": [
    "c = [1,'are','you','ok']\n",
    "\n",
    "c.remove('you') #移除指定元素\n",
    "\n",
    "print(c)"
   ]
  },
  {
   "cell_type": "code",
   "execution_count": null,
   "metadata": {},
   "outputs": [],
   "source": []
  },
  {
   "cell_type": "code",
   "execution_count": null,
   "metadata": {},
   "outputs": [],
   "source": [
    "c = [1,'are','you','ok']\n",
    "\n",
    "c.pop() #移除指定元素\n",
    "\n",
    "print(c)\n",
    "\n",
    "c.pop()\n",
    "\n",
    "print(c)"
   ]
  },
  {
   "cell_type": "code",
   "execution_count": null,
   "metadata": {},
   "outputs": [],
   "source": []
  },
  {
   "cell_type": "markdown",
   "metadata": {},
   "source": [
    "---------------\n",
    "    元组：创建    （）创建元组      ，分隔创建元组     元组存入数据\n",
    "- 示例与练习"
   ]
  },
  {
   "cell_type": "code",
   "execution_count": null,
   "metadata": {},
   "outputs": [],
   "source": [
    "a = (4,5,6) #()创建元组\n",
    "\n",
    "b = 1,2,3   # 元组，分隔创建\n",
    "\n",
    "c = ('hello','are','you','ok',3.14,1314)  #元组中可以存入不同类型的数据\n",
    "\n",
    "print(a,b,c)"
   ]
  },
  {
   "cell_type": "code",
   "execution_count": null,
   "metadata": {},
   "outputs": [],
   "source": []
  },
  {
   "cell_type": "markdown",
   "metadata": {},
   "source": [
    "    元组：元素访问    [下标]访问     [:]切片访问   嵌套元组访问\n",
    "- 示例与练习"
   ]
  },
  {
   "cell_type": "code",
   "execution_count": null,
   "metadata": {},
   "outputs": [],
   "source": [
    "t = ('hello','are','you','ok',3.14,1314)\n",
    "\n",
    "print(t[1]) #下标访问\n",
    "\n",
    "print(t[0])\n"
   ]
  },
  {
   "cell_type": "code",
   "execution_count": null,
   "metadata": {},
   "outputs": [],
   "source": []
  },
  {
   "cell_type": "code",
   "execution_count": null,
   "metadata": {},
   "outputs": [],
   "source": [
    "t = ('hello','are','you','ok',3.14,1314)\n",
    "\n",
    "a = t[2:4] #[:]切片访问\n",
    "\n",
    "print(a)"
   ]
  },
  {
   "cell_type": "code",
   "execution_count": null,
   "metadata": {},
   "outputs": [],
   "source": []
  },
  {
   "cell_type": "code",
   "execution_count": null,
   "metadata": {},
   "outputs": [],
   "source": [
    "t = ('hello','are','you',('ok',3.14,1314),[10,11])\n",
    "\n",
    "print(t[3])\n",
    "\n",
    "print(t[3][0]) #访问ok\n",
    "\n",
    "print(t[4][1]) #访问11"
   ]
  },
  {
   "cell_type": "code",
   "execution_count": null,
   "metadata": {},
   "outputs": [],
   "source": []
  },
  {
   "cell_type": "markdown",
   "metadata": {},
   "source": [
    "    元组：删除元组    只能全部删除\n",
    "- 示例与练习"
   ]
  },
  {
   "cell_type": "code",
   "execution_count": null,
   "metadata": {},
   "outputs": [],
   "source": [
    "t = ('hello','are','you','ok',3.14,1314)\n",
    "\n",
    "# del t[0] 不能删除单个元素\n",
    "\n",
    "del t    \n"
   ]
  },
  {
   "cell_type": "code",
   "execution_count": null,
   "metadata": {},
   "outputs": [],
   "source": []
  },
  {
   "cell_type": "markdown",
   "metadata": {},
   "source": [
    "    元组：元组操作   len（）求长度    +拼接     *复制      in成员判断\n",
    "- 示例与练习"
   ]
  },
  {
   "cell_type": "code",
   "execution_count": null,
   "metadata": {},
   "outputs": [],
   "source": [
    "t = ('hello','are','you','ok',3.14,1314)\n",
    "\n",
    "l = len(t) \n",
    "\n",
    "print(l)"
   ]
  },
  {
   "cell_type": "code",
   "execution_count": null,
   "metadata": {},
   "outputs": [],
   "source": []
  },
  {
   "cell_type": "code",
   "execution_count": null,
   "metadata": {},
   "outputs": [],
   "source": [
    "t = ('hello','are','you','ok',3.14,1314)\n",
    "a = (4,5,9)\n",
    "\n",
    "c = t +  a\n",
    "\n",
    "print(c)"
   ]
  },
  {
   "cell_type": "code",
   "execution_count": null,
   "metadata": {},
   "outputs": [],
   "source": []
  },
  {
   "cell_type": "code",
   "execution_count": null,
   "metadata": {},
   "outputs": [],
   "source": [
    "t = ('hello','are','you','ok',3.14,1314)\n",
    "\n",
    "a = t *2\n",
    "\n",
    "print(a)"
   ]
  },
  {
   "cell_type": "code",
   "execution_count": null,
   "metadata": {},
   "outputs": [],
   "source": []
  },
  {
   "cell_type": "code",
   "execution_count": null,
   "metadata": {},
   "outputs": [],
   "source": [
    "t = ('hello','are','you','ok',3.14,1314)\n",
    "\n",
    "res = 3 in t\n",
    "\n",
    "print(res)"
   ]
  },
  {
   "cell_type": "code",
   "execution_count": null,
   "metadata": {},
   "outputs": [],
   "source": []
  },
  {
   "cell_type": "markdown",
   "metadata": {},
   "source": [
    "    元组：函数&方法    sum（ ）求和      tuple（）把字符串或列表转换为元组\n",
    "- 示例与练习"
   ]
  },
  {
   "cell_type": "code",
   "execution_count": null,
   "metadata": {},
   "outputs": [],
   "source": [
    "l = [3,4,5]\n",
    "\n",
    "t = tuple(l) #把列表l转元组\n",
    "\n",
    "print(l,t)\n"
   ]
  },
  {
   "cell_type": "code",
   "execution_count": null,
   "metadata": {},
   "outputs": [],
   "source": []
  },
  {
   "cell_type": "markdown",
   "metadata": {},
   "source": [
    "    元组：不支持的操作   元素更新    删除单个元素\n",
    "- 示例与练习"
   ]
  },
  {
   "cell_type": "code",
   "execution_count": null,
   "metadata": {},
   "outputs": [],
   "source": [
    "t = ('hello','are','you','ok',3.14,1314)\n",
    "\n",
    "t[1] =3  #运行报错\n"
   ]
  },
  {
   "cell_type": "code",
   "execution_count": null,
   "metadata": {},
   "outputs": [],
   "source": []
  },
  {
   "cell_type": "code",
   "execution_count": null,
   "metadata": {},
   "outputs": [],
   "source": [
    "t = ('hello','are','you','ok',3.14,1314)\n",
    "\n",
    "del t[0]"
   ]
  },
  {
   "cell_type": "code",
   "execution_count": null,
   "metadata": {},
   "outputs": [],
   "source": []
  },
  {
   "cell_type": "markdown",
   "metadata": {},
   "source": [
    "    "
   ]
  },
  {
   "cell_type": "markdown",
   "metadata": {},
   "source": [
    "---------  \n",
    "    字典：创建  {key：value}理解    \n",
    "- 示例与练习"
   ]
  },
  {
   "cell_type": "code",
   "execution_count": null,
   "metadata": {},
   "outputs": [],
   "source": [
    "a= {} #空字典\n",
    "print(a)\n",
    "\n",
    "b = {'name':'张三','num':2017051123} #存入数据\n",
    "\n",
    "a['python'] = 95\n",
    "\n",
    "print(a,b)"
   ]
  },
  {
   "cell_type": "code",
   "execution_count": null,
   "metadata": {},
   "outputs": [],
   "source": []
  },
  {
   "cell_type": "markdown",
   "metadata": {},
   "source": [
    "    字典：元素访问    key访问\n",
    "- 示例与练习"
   ]
  },
  {
   "cell_type": "code",
   "execution_count": null,
   "metadata": {},
   "outputs": [],
   "source": [
    "d = {'name':'张三','num':2017051123,'python':95} \n",
    "\n",
    "print(d['num']) #num 是key关键字，不能用下标访问"
   ]
  },
  {
   "cell_type": "code",
   "execution_count": null,
   "metadata": {},
   "outputs": [],
   "source": []
  },
  {
   "cell_type": "markdown",
   "metadata": {},
   "source": [
    "    字典：更新与删除    删除单个元组    删除整个字典  \n",
    "- 示例与练习"
   ]
  },
  {
   "cell_type": "code",
   "execution_count": null,
   "metadata": {},
   "outputs": [],
   "source": [
    "d = {'name':'张三','num':2017051123,'python':95} \n",
    "\n",
    "del d['num'] #只删除num\n",
    "\n",
    "print(d)"
   ]
  },
  {
   "cell_type": "code",
   "execution_count": null,
   "metadata": {},
   "outputs": [],
   "source": []
  },
  {
   "cell_type": "code",
   "execution_count": null,
   "metadata": {},
   "outputs": [],
   "source": [
    "d = {'name':'张三','num':2017051123,'python':95} \n",
    "\n",
    "d['python'] = 80 #让Python关键字 = 80，更新操作\n",
    "\n",
    "print(d)"
   ]
  },
  {
   "cell_type": "code",
   "execution_count": null,
   "metadata": {},
   "outputs": [],
   "source": []
  },
  {
   "cell_type": "markdown",
   "metadata": {},
   "source": [
    "    字典：函数&方法   len()求长度    .keys()查看所有关键字    .values()查看所有值     .items()查看关键字与值对应情况\n",
    "- 示例与练习"
   ]
  },
  {
   "cell_type": "code",
   "execution_count": null,
   "metadata": {},
   "outputs": [],
   "source": [
    "d = {'name':'张三','num':2017051123,'python':95} \n",
    "\n",
    "print(len(d))"
   ]
  },
  {
   "cell_type": "code",
   "execution_count": null,
   "metadata": {},
   "outputs": [],
   "source": []
  },
  {
   "cell_type": "code",
   "execution_count": null,
   "metadata": {},
   "outputs": [],
   "source": [
    "d = {'name':'张三','num':2017051123,'python':95} \n",
    "\n",
    "k = d.keys()\n",
    "\n",
    "print(k)\n",
    "\n",
    "# print( list(k)[1] )\n"
   ]
  },
  {
   "cell_type": "code",
   "execution_count": null,
   "metadata": {},
   "outputs": [],
   "source": []
  },
  {
   "cell_type": "code",
   "execution_count": null,
   "metadata": {},
   "outputs": [],
   "source": [
    "d = {'name':'张三','num':2017051123,'python':95} \n",
    "\n",
    "v = d.values()\n",
    "\n",
    "print(v)"
   ]
  },
  {
   "cell_type": "code",
   "execution_count": null,
   "metadata": {},
   "outputs": [],
   "source": []
  },
  {
   "cell_type": "markdown",
   "metadata": {},
   "source": [
    "    "
   ]
  },
  {
   "cell_type": "markdown",
   "metadata": {},
   "source": [
    "## <center>5 控制语句\n",
    "------\n",
    "知识要点：\n",
    "- 条件语句\n",
    "- 循环语句\n",
    "- 缩进\n",
    "- break  continue pass\n",
    "---"
   ]
  },
  {
   "cell_type": "markdown",
   "metadata": {},
   "source": [
    "5.1条件语句\n",
    "- 单分支\n",
    "- 双分支\n",
    "- 多分支\n",
    "- 条件语句嵌套\n",
    "\n"
   ]
  },
  {
   "cell_type": "markdown",
   "metadata": {},
   "source": [
    "单分支： 满足条件就执行\n",
    "\n",
    "- 示例与练习"
   ]
  },
  {
   "cell_type": "code",
   "execution_count": null,
   "metadata": {},
   "outputs": [],
   "source": [
    "score = 65\n",
    "\n",
    "if score >=60:\n",
    "    print('pass') #缩进相当于c语言的{}\n",
    "    "
   ]
  },
  {
   "cell_type": "code",
   "execution_count": null,
   "metadata": {},
   "outputs": [],
   "source": []
  },
  {
   "cell_type": "code",
   "execution_count": null,
   "metadata": {},
   "outputs": [],
   "source": [
    "score = 59.99999\n",
    "\n",
    "if score >=60:\n",
    "    print('pass')\n",
    "    "
   ]
  },
  {
   "cell_type": "code",
   "execution_count": null,
   "metadata": {},
   "outputs": [],
   "source": []
  },
  {
   "cell_type": "markdown",
   "metadata": {},
   "source": [
    "双分支： if... else ...\n",
    "- 示例与练习"
   ]
  },
  {
   "cell_type": "code",
   "execution_count": null,
   "metadata": {},
   "outputs": [],
   "source": [
    "score = 65\n",
    "\n",
    "if score >= 60:\n",
    "    print('pass')\n",
    "else:\n",
    "    print('no')\n",
    "    \n",
    "    "
   ]
  },
  {
   "cell_type": "code",
   "execution_count": null,
   "metadata": {},
   "outputs": [],
   "source": []
  },
  {
   "cell_type": "code",
   "execution_count": null,
   "metadata": {},
   "outputs": [],
   "source": [
    "score = 59.9\n",
    "\n",
    "\n",
    "if score >= 60:\n",
    "    print('pass')\n",
    "else:\n",
    "    print('no')"
   ]
  },
  {
   "cell_type": "code",
   "execution_count": null,
   "metadata": {},
   "outputs": [],
   "source": []
  },
  {
   "cell_type": "markdown",
   "metadata": {},
   "source": [
    "多分支： if... elif...else...\n",
    "\n",
    "- 示例与练习"
   ]
  },
  {
   "cell_type": "code",
   "execution_count": null,
   "metadata": {},
   "outputs": [],
   "source": [
    "score = 60\n",
    "\n",
    "\n",
    "if score>=90:\n",
    "    print('a')\n",
    "    \n",
    "elif score >=80:\n",
    "    print('b')\n",
    "    \n",
    "elif score>=70:\n",
    "    print('c')\n",
    "    \n",
    "elif score>=60:\n",
    "    print('d')\n",
    "    \n",
    "else:\n",
    "    print('oh no')\n",
    "    \n",
    "    "
   ]
  },
  {
   "cell_type": "code",
   "execution_count": null,
   "metadata": {},
   "outputs": [],
   "source": []
  },
  {
   "cell_type": "code",
   "execution_count": null,
   "metadata": {},
   "outputs": [],
   "source": [
    "score = 85\n",
    "\n",
    "\n",
    "if score>=90:\n",
    "    print('a')\n",
    "    \n",
    "elif score >=80:\n",
    "    print('b')\n",
    "    \n",
    "# python2.x多分支没有else结尾就报错,3.x不会"
   ]
  },
  {
   "cell_type": "code",
   "execution_count": null,
   "metadata": {},
   "outputs": [],
   "source": []
  },
  {
   "cell_type": "markdown",
   "metadata": {},
   "source": [
    "       \n",
    "   嵌套: 条件语句嵌套\n",
    "- 示例与练习"
   ]
  },
  {
   "cell_type": "code",
   "execution_count": null,
   "metadata": {},
   "outputs": [],
   "source": [
    "# 登录案例\n",
    "\n",
    "username = 'alice'\n",
    "password = '000000'\n",
    "\n",
    "user = ['harold','alice','adam'] #伪数据库中有三个人注册\n",
    "\n",
    "\n",
    "if username in user:\n",
    "    \n",
    "    if password == '000000':\n",
    "        \n",
    "        print('login')\n",
    "    else:\n",
    "        print('password error')\n",
    "else:\n",
    "    print('no such user')\n",
    "    "
   ]
  },
  {
   "cell_type": "code",
   "execution_count": null,
   "metadata": {},
   "outputs": [],
   "source": []
  },
  {
   "cell_type": "markdown",
   "metadata": {},
   "source": [
    "相亲： https://www.cnblogs.com/leoo2sk/archive/2010/09/19/decision-tree.html"
   ]
  },
  {
   "cell_type": "code",
   "execution_count": null,
   "metadata": {},
   "outputs": [],
   "source": []
  },
  {
   "cell_type": "markdown",
   "metadata": {},
   "source": [
    "    "
   ]
  },
  {
   "cell_type": "markdown",
   "metadata": {},
   "source": [
    "    5.2循环语句：\n",
    "- for 循环\n",
    "- while循环\n",
    "- 循环嵌套"
   ]
  },
  {
   "cell_type": "markdown",
   "metadata": {},
   "source": [
    "    for循环：for i in seq     range的作用    可迭代序列\n",
    "- 示例与练习"
   ]
  },
  {
   "cell_type": "code",
   "execution_count": null,
   "metadata": {},
   "outputs": [],
   "source": [
    "for i in range(5): #基本循环 range(起始值，结束值，步长)\n",
    "    print(i)"
   ]
  },
  {
   "cell_type": "code",
   "execution_count": null,
   "metadata": {},
   "outputs": [],
   "source": []
  },
  {
   "cell_type": "code",
   "execution_count": null,
   "metadata": {},
   "outputs": [],
   "source": [
    "for i in range(1,5): #指定range区间\n",
    "    print(i)"
   ]
  },
  {
   "cell_type": "code",
   "execution_count": null,
   "metadata": {},
   "outputs": [],
   "source": []
  },
  {
   "cell_type": "code",
   "execution_count": null,
   "metadata": {},
   "outputs": [],
   "source": [
    "for i in range(1,10,2): #指定步长\n",
    "    print(i)"
   ]
  },
  {
   "cell_type": "code",
   "execution_count": null,
   "metadata": {},
   "outputs": [],
   "source": []
  },
  {
   "cell_type": "code",
   "execution_count": null,
   "metadata": {},
   "outputs": [],
   "source": [
    "a = ['hello','are','you','ok'] #列表可迭代\n",
    "\n",
    "for i in a:\n",
    "    #a是seq\n",
    "    print(i)"
   ]
  },
  {
   "cell_type": "code",
   "execution_count": null,
   "metadata": {},
   "outputs": [],
   "source": []
  },
  {
   "cell_type": "code",
   "execution_count": null,
   "metadata": {},
   "outputs": [],
   "source": [
    "t = ('are','you','ok') #元组可迭代\n",
    "\n",
    "for i in t:\n",
    "    print(i)\n",
    "    "
   ]
  },
  {
   "cell_type": "code",
   "execution_count": null,
   "metadata": {},
   "outputs": [],
   "source": []
  },
  {
   "cell_type": "code",
   "execution_count": null,
   "metadata": {},
   "outputs": [],
   "source": [
    "s = 'python'\n",
    "for i in s:\n",
    "    print(i)"
   ]
  },
  {
   "cell_type": "code",
   "execution_count": null,
   "metadata": {},
   "outputs": [],
   "source": [
    "import time as t\n",
    "\n",
    "for i in 'hello world':\n",
    "    \n",
    "    print(i)\n",
    "    t.sleep(1) #睡一秒"
   ]
  },
  {
   "cell_type": "code",
   "execution_count": null,
   "metadata": {},
   "outputs": [],
   "source": []
  },
  {
   "cell_type": "markdown",
   "metadata": {},
   "source": [
    "    "
   ]
  },
  {
   "cell_type": "markdown",
   "metadata": {},
   "source": [
    "    循环：while循环     使用条件    基本结构   注意缩进\n",
    "- 示例与练习"
   ]
  },
  {
   "cell_type": "code",
   "execution_count": null,
   "metadata": {},
   "outputs": [],
   "source": [
    "i = 1 \n",
    "\n",
    "while i<10: #很容易知道循环次数\n",
    "    \n",
    "    print(i)\n",
    "    i = i + 1"
   ]
  },
  {
   "cell_type": "code",
   "execution_count": null,
   "metadata": {},
   "outputs": [],
   "source": []
  },
  {
   "cell_type": "code",
   "execution_count": null,
   "metadata": {},
   "outputs": [],
   "source": [
    "i = 100\n",
    "\n",
    "while i>2: #不容易知道循环次数\n",
    "    \n",
    "    print(i)\n",
    "    i = i/3"
   ]
  },
  {
   "cell_type": "code",
   "execution_count": null,
   "metadata": {},
   "outputs": [],
   "source": []
  },
  {
   "cell_type": "code",
   "execution_count": null,
   "metadata": {},
   "outputs": [],
   "source": [
    "a = ['hello','are','you','ok'] #设计while循环实现for一样的打印\n",
    "\n",
    "i = 0\n",
    "while i <len(a):\n",
    "    \n",
    "    print(a[i])\n",
    "    i = i +1"
   ]
  },
  {
   "cell_type": "code",
   "execution_count": null,
   "metadata": {},
   "outputs": [],
   "source": []
  },
  {
   "cell_type": "markdown",
   "metadata": {},
   "source": [
    "    循环嵌套：for的循环嵌套     while循环嵌套   注意缩进\n",
    "- 示例与练习"
   ]
  },
  {
   "cell_type": "code",
   "execution_count": null,
   "metadata": {},
   "outputs": [],
   "source": [
    "\n",
    "for i in range(3):\n",
    "    for j in range(3):\n",
    "        \n",
    "        print(i,j)\n",
    "        "
   ]
  },
  {
   "cell_type": "code",
   "execution_count": null,
   "metadata": {},
   "outputs": [],
   "source": []
  },
  {
   "cell_type": "code",
   "execution_count": null,
   "metadata": {},
   "outputs": [],
   "source": [
    "\n",
    "for i in range(3):\n",
    "    \n",
    "    for j in range(3):     \n",
    "        print('in')\n",
    "    \n",
    "    print('out')\n",
    "\n"
   ]
  },
  {
   "cell_type": "code",
   "execution_count": null,
   "metadata": {},
   "outputs": [],
   "source": []
  },
  {
   "cell_type": "code",
   "execution_count": null,
   "metadata": {},
   "outputs": [],
   "source": [
    "i = 0\n",
    "j = 0\n",
    "\n",
    "while i<3:\n",
    "    \n",
    "    while j < 3:\n",
    "        print(i,j)\n",
    "        j = j + 1\n",
    "        \n",
    "    j = 0   \n",
    "    i = i +1\n",
    "    \n",
    "    "
   ]
  },
  {
   "cell_type": "code",
   "execution_count": null,
   "metadata": {},
   "outputs": [],
   "source": []
  },
  {
   "cell_type": "markdown",
   "metadata": {},
   "source": [
    "遍历二维表格操作：\n",
    "    \n",
    "<img src='https://timgsa.baidu.com/timg?image&quality=80&size=b9999_10000&sec=1515688838307&di=a59d87588a73269d10cefbaff84670d5&imgtype=0&src=http%3A%2F%2Fimg.tpy888.cn%2Fupload%2F201603%2F15%2F17-18-11-99-118498.png' width='60%' style='float:left' </img>\n"
   ]
  },
  {
   "cell_type": "code",
   "execution_count": null,
   "metadata": {},
   "outputs": [],
   "source": [
    "table = [['apple',550,200,'36.36%',40.41],\n",
    "         ['sansum',373,164,'43.97%',34.89],\n",
    "         ['huawei',298,126,'42.28%',38.35],\n",
    "         ['qiantai',518,71,'13,71%','19.41']]\n",
    "\n",
    "table[1][2]\n",
    "\n",
    "# for row in range(4):\n",
    "#     for col in range(5):\n",
    "        \n",
    "#         data = table[row][col]\n",
    "#         print(data)\n",
    "        "
   ]
  },
  {
   "cell_type": "code",
   "execution_count": null,
   "metadata": {},
   "outputs": [],
   "source": []
  },
  {
   "cell_type": "markdown",
   "metadata": {},
   "source": [
    "    编程案例\n",
    "- 示例与练习"
   ]
  },
  {
   "cell_type": "markdown",
   "metadata": {},
   "source": [
    "题目-1：计算 res = 1+2+3+4 +...+n"
   ]
  },
  {
   "cell_type": "code",
   "execution_count": null,
   "metadata": {},
   "outputs": [],
   "source": [
    "n = 10\n",
    "\n",
    "\n",
    "res =0\n",
    "for i in range(n+1):\n",
    "    res = res + i\n",
    "\n",
    "    print(res)\n",
    "\n",
    "#如果用while我们该怎么写做呢？"
   ]
  },
  {
   "cell_type": "code",
   "execution_count": null,
   "metadata": {},
   "outputs": [],
   "source": []
  },
  {
   "cell_type": "markdown",
   "metadata": {},
   "source": [
    "练习-1：计算 $res = 1\\times 2\\times 3\\times 4  \\times ...\\times n$"
   ]
  },
  {
   "cell_type": "code",
   "execution_count": null,
   "metadata": {},
   "outputs": [],
   "source": []
  },
  {
   "cell_type": "markdown",
   "metadata": {},
   "source": [
    "题目-2：计算 $ res = \\frac{1}{1}+\\frac{1}{2}+\\frac{1}{3}+...\\frac{1}{n}$"
   ]
  },
  {
   "cell_type": "code",
   "execution_count": null,
   "metadata": {},
   "outputs": [],
   "source": [
    "n = 10\n",
    "\n",
    "\n",
    "res =0\n",
    "for i in range(1,n+1):\n",
    "    res = res + 1/i\n",
    "    \n",
    "print(res)\n",
    "\n",
    "#如果用while我们该怎么写做呢？"
   ]
  },
  {
   "cell_type": "code",
   "execution_count": null,
   "metadata": {},
   "outputs": [],
   "source": []
  },
  {
   "cell_type": "markdown",
   "metadata": {},
   "source": [
    "练习-2：计算 $res = \\frac{1}{1+2}+\\frac{2}{2+3} +\\frac{3}{3+4}+\\frac{n}{n+(n+1)}$"
   ]
  },
  {
   "cell_type": "code",
   "execution_count": null,
   "metadata": {},
   "outputs": [],
   "source": []
  },
  {
   "cell_type": "markdown",
   "metadata": {},
   "source": [
    "    "
   ]
  },
  {
   "cell_type": "markdown",
   "metadata": {},
   "source": [
    "    break,continue,pass\n",
    "- 示例与练习"
   ]
  },
  {
   "cell_type": "code",
   "execution_count": null,
   "metadata": {},
   "outputs": [],
   "source": [
    "s = 'python' \n",
    "\n",
    "for i in s:  \n",
    "    if i =='h':\n",
    "        break #停止循环\n",
    "    print(i)"
   ]
  },
  {
   "cell_type": "code",
   "execution_count": null,
   "metadata": {},
   "outputs": [],
   "source": []
  },
  {
   "cell_type": "code",
   "execution_count": null,
   "metadata": {},
   "outputs": [],
   "source": [
    "s = 'python' \n",
    "\n",
    "for i in s:\n",
    "    \n",
    "    if i =='h':\n",
    "        continue #跳过它\n",
    "    print(i)   \n",
    "    "
   ]
  },
  {
   "cell_type": "code",
   "execution_count": null,
   "metadata": {},
   "outputs": [],
   "source": []
  },
  {
   "cell_type": "code",
   "execution_count": null,
   "metadata": {},
   "outputs": [],
   "source": [
    "for i in range(3):\n",
    "    pass #pass补全语法块，什么都不做\n",
    "\n",
    "\n",
    "\n",
    "# for j in range(3):\n",
    "    \n",
    "#     #缺失内部代码会报错\n"
   ]
  },
  {
   "cell_type": "code",
   "execution_count": null,
   "metadata": {},
   "outputs": [],
   "source": []
  },
  {
   "cell_type": "markdown",
   "metadata": {},
   "source": [
    "    "
   ]
  },
  {
   "cell_type": "markdown",
   "metadata": {},
   "source": [
    "## <center>6 函数\n",
    "---\n",
    "知识要点：\n",
    "- 函数定义\n",
    "- 函数调用\n",
    "- 参数传递\n",
    "    - 什么是形参\n",
    "    - 什么是实参\n",
    "    - 默认参数\n",
    "- 返回值return\n",
    "- 变量作用域\n",
    "----"
   ]
  },
  {
   "cell_type": "markdown",
   "metadata": {},
   "source": [
    "    函数定义：def    函数名   ()  ：冒号   缩进   函数注解    函数体  返回值\n",
    "- ### <font color=Blue>重新认识函数：$f(x,y,z)=x^{y}+z$\n",
    "-        \n",
    "- 示例与练习"
   ]
  },
  {
   "cell_type": "code",
   "execution_count": null,
   "metadata": {},
   "outputs": [],
   "source": [
    "def f(x, y, z):\n",
    "    ''' x is int\n",
    "        y is int\n",
    "        z is int or float\n",
    "    '''\n",
    "    \n",
    "    res = x**y + z\n",
    "\n",
    "    return res\n",
    "# -----------------------\n",
    "\n",
    "\n",
    "r = f(2,3,4.1) #调用函数\n",
    "\n",
    "print(r)"
   ]
  },
  {
   "cell_type": "code",
   "execution_count": null,
   "metadata": {},
   "outputs": [],
   "source": []
  },
  {
   "cell_type": "markdown",
   "metadata": {},
   "source": [
    "### <font color=Blue> 函数：认识Python函数 \n",
    "<img src=\"https://raw.githubusercontent.com/Yeharold/python/master/%E7%AC%AC%E4%B8%80%E9%98%B6%E6%AE%B5%EF%BC%9A%E5%BF%AB%E9%80%9F%E5%85%A5%E9%97%A8/img/def.png\" width=\"50%\" height=\"50%\" style='float:left' />\n",
    "--------------------------\n"
   ]
  },
  {
   "cell_type": "markdown",
   "metadata": {},
   "source": [
    "- 示例与练习"
   ]
  },
  {
   "cell_type": "code",
   "execution_count": null,
   "metadata": {},
   "outputs": [],
   "source": [
    "#函数没形参数def\n",
    "\n",
    "def hello():\n",
    "    '''函数注解\n",
    "    '''\n",
    "    print('hello world')\n",
    "    \n",
    "    return None #如果没返回值可以不要 return，Python会自己默认有这句\n",
    "\n",
    "\n",
    "hello() #调用函数"
   ]
  },
  {
   "cell_type": "code",
   "execution_count": null,
   "metadata": {},
   "outputs": [],
   "source": []
  },
  {
   "cell_type": "code",
   "execution_count": null,
   "metadata": {},
   "outputs": [],
   "source": [
    "def hello():\n",
    "    '''函数注解\n",
    "    '''\n",
    "    print('hello world') #没有返回值\n",
    "\n",
    "    \n",
    "hello() #调用函数"
   ]
  },
  {
   "cell_type": "code",
   "execution_count": null,
   "metadata": {},
   "outputs": [],
   "source": []
  },
  {
   "cell_type": "markdown",
   "metadata": {},
   "source": [
    "定义一个add(n)的函数：计算 $ res = \\frac{1}{1}+\\frac{1}{2}+\\frac{1}{3}+...\\frac{1}{n}$\n",
    "- 示例与练习"
   ]
  },
  {
   "cell_type": "code",
   "execution_count": null,
   "metadata": {},
   "outputs": [],
   "source": [
    "#把零碎的代码封装成功能函数，方便别人调用\n",
    "\n",
    "def add(n):\n",
    "    ''' n is int\n",
    "    '''\n",
    "    \n",
    "    res = 0\n",
    "    \n",
    "    for i in range(1,n+1):\n",
    "        res = res + 1/i\n",
    "        \n",
    "    return res\n",
    "\n",
    "\n",
    "r = add(10)\n",
    "print(r)"
   ]
  },
  {
   "cell_type": "code",
   "execution_count": null,
   "metadata": {},
   "outputs": [],
   "source": []
  },
  {
   "cell_type": "markdown",
   "metadata": {},
   "source": [
    "    认识函数参数：默认参数     参数传递     函数参数可以是数字、字符串、序列数据结构等一切对象\n",
    "- 示例与练习"
   ]
  },
  {
   "cell_type": "code",
   "execution_count": null,
   "metadata": {},
   "outputs": [],
   "source": [
    "def test(a,b,c=2):\n",
    "    '''a,b is int\n",
    "       c 默认值为2\n",
    "    '''\n",
    "    res = a**b + c\n",
    "    \n",
    "    return res\n",
    "\n",
    "\n",
    "res1 = test(2,3)      #a=2,b=3，会按顺序指定\n",
    "res2 = test(a=2,b=3)  #按顺序直接指定\n",
    "res3 = test(b=2,a=3)  #不按顺序指定\n",
    "res4 = test(2,3,4)    #c =4,\n",
    "\n",
    "\n",
    "print(res1,res2,res3,res4)\n",
    "\n"
   ]
  },
  {
   "cell_type": "code",
   "execution_count": null,
   "metadata": {},
   "outputs": [],
   "source": []
  },
  {
   "cell_type": "markdown",
   "metadata": {},
   "source": [
    "    return在函数中的使用\n",
    "- 示例与练习\n"
   ]
  },
  {
   "cell_type": "code",
   "execution_count": null,
   "metadata": {},
   "outputs": [],
   "source": [
    "# 一个函数中可以有多个return\n",
    "\n",
    "def judge(score):\n",
    "    '''score is num,代表学生分数\n",
    "    '''\n",
    "    \n",
    "    if score>=60:\n",
    "        return 'yes'\n",
    "    else:\n",
    "        return 'no'\n",
    "    \n",
    "\n",
    "s = 70\n",
    "r = judge(s)\n",
    "\n",
    "print(r)"
   ]
  },
  {
   "cell_type": "code",
   "execution_count": null,
   "metadata": {},
   "outputs": [],
   "source": []
  },
  {
   "cell_type": "code",
   "execution_count": null,
   "metadata": {},
   "outputs": [],
   "source": [
    "#return 返回可以是数字，字符串，序列等一切Python对象\n",
    "\n",
    "def deal(s):\n",
    "    '''s is string\n",
    "    '''\n",
    "    \n",
    "    res =[]\n",
    "    for i in s:\n",
    "        res.append(i)\n",
    "    \n",
    "    return res #返回列表\n",
    "\n",
    "\n",
    "s = 'python is powerful'\n",
    "r = deal(s)\n",
    "\n",
    "print(r)"
   ]
  },
  {
   "cell_type": "code",
   "execution_count": null,
   "metadata": {},
   "outputs": [],
   "source": []
  },
  {
   "cell_type": "markdown",
   "metadata": {},
   "source": [
    "    变量作用域： 全局变量      局部变量\n",
    "- 示例与练习"
   ]
  },
  {
   "cell_type": "markdown",
   "metadata": {},
   "source": [
    "<img src='https://raw.githubusercontent.com/Yeharold/python/master/%E7%AC%AC%E4%B8%80%E9%98%B6%E6%AE%B5%EF%BC%9A%E5%BF%AB%E9%80%9F%E5%85%A5%E9%97%A8/img/local.png' width='60%' style='float:left'>"
   ]
  },
  {
   "cell_type": "code",
   "execution_count": null,
   "metadata": {},
   "outputs": [],
   "source": [
    "n = 10\n",
    "m = 3.14\n",
    "\n",
    "\n",
    "def test(a,b,c):\n",
    "    \n",
    "    e = 5\n",
    "    \n",
    "    res = a**b + c*e -n\n",
    "    \n",
    "    return res\n",
    "\n",
    "\n",
    "r = test(1,2,3)\n",
    "\n",
    "print(r)\n",
    "print(test)\n",
    "print(n)\n"
   ]
  },
  {
   "cell_type": "code",
   "execution_count": null,
   "metadata": {},
   "outputs": [],
   "source": []
  },
  {
   "cell_type": "markdown",
   "metadata": {},
   "source": [
    "## <center>7 面向对象"
   ]
  },
  {
   "cell_type": "markdown",
   "metadata": {},
   "source": [
    "---\n",
    "知识要点：\n",
    "- 创建类\n",
    "- 创建实例\n",
    "- 类变量&实例变量\n",
    "- 类方法\n",
    "  - 普通方法\n",
    "  - 构造方法\n",
    "  - 类方法与静态方法\n",
    "- 类的继承\n"
   ]
  },
  {
   "cell_type": "markdown",
   "metadata": {},
   "source": [
    "    创建类：class     类名     类变量     self   方法\n",
    "- 示例与练习"
   ]
  },
  {
   "cell_type": "code",
   "execution_count": null,
   "metadata": {},
   "outputs": [],
   "source": [
    "class Phone():\n",
    "    '''注解\n",
    "    '''\n",
    "    price = 200 #类变量\n",
    "    \n",
    "    def call(self): #类方法，要传入默认参数self\n",
    "        print('call')\n",
    "        \n",
    "    def msg(self):\n",
    "        print('send msg')\n",
    "    \n",
    "    \n",
    "    \n",
    "nokia = Phone() #创建实例 或示例化类\n",
    "nokia.price #查看类变量\n",
    "\n",
    "nokia.call() #调用类方法call（）\n",
    "nokia.msg()  #调用msg（）方法"
   ]
  },
  {
   "cell_type": "code",
   "execution_count": null,
   "metadata": {},
   "outputs": [],
   "source": []
  },
  {
   "cell_type": "markdown",
   "metadata": {},
   "source": [
    "    创建示例： 示例化类     访问    类名.方法    类名.类变量（或实例变量）名\n",
    "- 示例与练习"
   ]
  },
  {
   "cell_type": "code",
   "execution_count": null,
   "metadata": {},
   "outputs": [],
   "source": [
    "class SmartPhone():\n",
    "    \n",
    "    def qq(self):\n",
    "        print('chat qq')\n",
    "        \n",
    "    def wechat(self):\n",
    "        print('wechat')\n",
    "        \n",
    "    def game(self,gameName):\n",
    "        ''' gameName is str\n",
    "        '''\n",
    "        print(gameName)\n",
    "        \n",
    "\n",
    "        \n",
    "mi = SmartPhone()\n",
    "\n",
    "mi.qq()\n",
    "mi.wechat()\n",
    "mi.game('honor of king')       "
   ]
  },
  {
   "cell_type": "code",
   "execution_count": null,
   "metadata": {},
   "outputs": [],
   "source": []
  },
  {
   "cell_type": "markdown",
   "metadata": {},
   "source": [
    "    类方法与变量： 普通方法  构造方法   类与示例变量\n",
    "- 示例与练习"
   ]
  },
  {
   "cell_type": "code",
   "execution_count": null,
   "metadata": {},
   "outputs": [],
   "source": [
    "class Phone():\n",
    "    '''注解\n",
    "    '''\n",
    "    k = 10 #类变量\n",
    "    \n",
    "    def __init__(self,s,p): #构造方法，有了它，创建实例时传入参数\n",
    "        '''s is 型号,str\n",
    "           p is 价钱,float\n",
    "        '''\n",
    "        self.series = s\n",
    "        self.price = p\n",
    "        \n",
    "        \n",
    "    def call(self,n): #类方法，要传入默认参数self\n",
    "        for i in range(n):\n",
    "            print('call')\n",
    "        \n",
    "    def msg(self):\n",
    "        print('send msg')\n",
    "        \n",
    "    def info(self):\n",
    "        print(self.price)\n",
    "        print(self.series)\n",
    "        \n",
    "        \n",
    "        \n",
    "nokia = Phone('8',2000.0) #创建实例时传入参数\n",
    "\n",
    "nokia.k\n",
    "\n",
    "nokia.call(3)\n",
    "nokia.info()\n",
    "nokia.series"
   ]
  },
  {
   "cell_type": "code",
   "execution_count": null,
   "metadata": {},
   "outputs": [],
   "source": []
  },
  {
   "cell_type": "markdown",
   "metadata": {},
   "source": [
    "    类继承： 继承的概念   继承的特点\n",
    "- 示例与练习"
   ]
  },
  {
   "cell_type": "code",
   "execution_count": null,
   "metadata": {},
   "outputs": [],
   "source": [
    "class Phone():\n",
    "    '''注解\n",
    "    '''\n",
    "    price = 200 #类变量\n",
    "    \n",
    "    def call(self): #类方法，要传入默认参数self\n",
    "        print('call')\n",
    "        \n",
    "    def msg(self):\n",
    "        print('send msg')\n",
    "        \n",
    "\n",
    "class SmartPhone(Phone):\n",
    "    \n",
    "    def qq(self):\n",
    "        print('chat qq')\n",
    "        \n",
    "    def wechat(self):\n",
    "        print('wechat')\n",
    "        \n",
    "    def game(self,gameName):\n",
    "        ''' gameName is str\n",
    "        '''\n",
    "        print(gameName)\n",
    "        \n",
    "        \n",
    "\n",
    "class mi(SmartPhone):\n",
    "    \n",
    "    def hello(self):\n",
    "        print('hello are you ok')\n",
    "        \n",
    "        \n",
    "mi6 = mi() #创建实例\n",
    "\n",
    "mi6.qq()\n",
    "mi6.call()"
   ]
  },
  {
   "cell_type": "code",
   "execution_count": null,
   "metadata": {},
   "outputs": [],
   "source": []
  },
  {
   "cell_type": "markdown",
   "metadata": {},
   "source": [
    "## <center>8 模块导入\n",
    "    "
   ]
  },
  {
   "cell_type": "markdown",
   "metadata": {},
   "source": [
    "知识要点\n",
    "\n",
    "- 1 import方式\n",
    "    - import...\n",
    "    - import...as...\n",
    "- 2 from...import...方式\n",
    "    - from...import...\n",
    "    - from...import...as...\n",
    "    - from...import *\n",
    "- 3 模块帮助文档查看"
   ]
  },
  {
   "cell_type": "markdown",
   "metadata": {},
   "source": [
    "- 示例与练习"
   ]
  },
  {
   "cell_type": "code",
   "execution_count": null,
   "metadata": {},
   "outputs": [],
   "source": [
    "import time as t \n",
    "\n",
    "\n",
    "for i in range(10):\n",
    "    print(i)\n",
    "    t.sleep(1)"
   ]
  },
  {
   "cell_type": "markdown",
   "metadata": {},
   "source": [
    "- 示例与练习"
   ]
  },
  {
   "cell_type": "code",
   "execution_count": null,
   "metadata": {},
   "outputs": [],
   "source": [
    "from time import sleep,time\n",
    "\n",
    "\n",
    "for i in range(10):\n",
    "    \n",
    "    now = time()\n",
    "    print(now)\n",
    "    sleep(1)"
   ]
  },
  {
   "cell_type": "markdown",
   "metadata": {},
   "source": [
    "    看错模块帮助文档\n",
    "- 示例与练习"
   ]
  },
  {
   "cell_type": "code",
   "execution_count": null,
   "metadata": {},
   "outputs": [],
   "source": [
    "import time as t\n",
    "\n",
    "\n",
    "t.localtime?"
   ]
  },
  {
   "cell_type": "code",
   "execution_count": null,
   "metadata": {},
   "outputs": [],
   "source": []
  },
  {
   "cell_type": "markdown",
   "metadata": {},
   "source": [
    "    \n",
    "    \n",
    "##  <center>9 代码排错"
   ]
  },
  {
   "cell_type": "markdown",
   "metadata": {},
   "source": [
    "知识要点：\n",
    "- 常见错误类型\n",
    "- 排错技巧"
   ]
  },
  {
   "cell_type": "markdown",
   "metadata": {},
   "source": [
    "常见错误类型：\n",
    "\n",
    "- 语法错误 SyntaxError\n",
    "- 缩进错误 IndentationError\n",
    "- 未定义或声明 NameError\n",
    "- 下标错误 IndexError\n",
    "- 导入错误 ImportError"
   ]
  },
  {
   "cell_type": "code",
   "execution_count": null,
   "metadata": {},
   "outputs": [],
   "source": [
    "a = 10\n",
    "\n",
    "if a=10:\n",
    "    print('ok')"
   ]
  },
  {
   "cell_type": "code",
   "execution_count": null,
   "metadata": {},
   "outputs": [],
   "source": []
  },
  {
   "cell_type": "markdown",
   "metadata": {},
   "source": [
    "## <center>10 pip包管理"
   ]
  },
  {
   "cell_type": "markdown",
   "metadata": {},
   "source": [
    "知识要点：\n",
    "- pip安装包\n",
    "- pip卸载包\n",
    "- pip查看包\n",
    "- 更改源及其他\n",
    "---------\n",
    "示例与练习"
   ]
  },
  {
   "cell_type": "markdown",
   "metadata": {},
   "source": [
    "- step1 配置pip环境变量\n",
    "- step1 pip install pkg名称\n",
    "- step1 pip list\n",
    "- step1 pip uninstall pkg名称"
   ]
  }
 ],
 "metadata": {
  "kernelspec": {
   "display_name": "Python 3",
   "language": "python",
   "name": "python3"
  },
  "language_info": {
   "codemirror_mode": {
    "name": "ipython",
    "version": 3
   },
   "file_extension": ".py",
   "mimetype": "text/x-python",
   "name": "python",
   "nbconvert_exporter": "python",
   "pygments_lexer": "ipython3",
   "version": "3.5.2"
  }
 },
 "nbformat": 4,
 "nbformat_minor": 2
}
